{
 "cells": [
  {
   "cell_type": "code",
   "execution_count": 1,
   "metadata": {},
   "outputs": [],
   "source": [
    "import matplotlib.pyplot as plt\n",
    "import numpy as np\n",
    "import sys\n",
    "import itertools"
   ]
  },
  {
   "cell_type": "code",
   "execution_count": 2,
   "metadata": {},
   "outputs": [],
   "source": [
    "#Data for the first pattern\n",
    "x1=np.array([-1,-1,1,-1,1,-1,-1,1],dtype=float)\n",
    "x2=np.array([-1,-1,-1,-1,-1,1,-1,-1],dtype=float)\n",
    "x3=np.array([-1,1,1,-1,-1,1,-1,1],dtype=float)\n",
    "patterns=np.array([x1,x2,x3])"
   ]
  },
  {
   "cell_type": "code",
   "execution_count": 3,
   "metadata": {},
   "outputs": [],
   "source": [
    "def weight(patterns, scaling=False):\n",
    "    [P,n]=np.shape(patterns)\n",
    "    W=np.zeros((n,n))\n",
    "    for i in range (n):\n",
    "        for ii in range(n):\n",
    "            w = 0\n",
    "            for mu in range(P):\n",
    "                x_mu = patterns[mu]\n",
    "                w = w + x_mu[i]*x_mu[ii]\n",
    "                W[i,ii]= w\n",
    "            if scaling==True:\n",
    "                W[i,ii]=W[i,ii]/n\n",
    "    return W"
   ]
  },
  {
   "cell_type": "code",
   "execution_count": 4,
   "metadata": {},
   "outputs": [],
   "source": [
    "def sign(x):\n",
    "    if x>=0:\n",
    "        return 1\n",
    "    else:\n",
    "        return -1\n",
    "    \n",
    "def update(wx,theta):\n",
    "    x = 0.5+0.5*np.sign(wx-theta)\n",
    "    return x\n",
    "\n",
    "# energy function\n",
    "def energy_function(W,x):\n",
    "    n = len(x)\n",
    "    energy = 0\n",
    "    for i in range(n):\n",
    "        for j in range(n):\n",
    "            energy += W[i,j]*x[i]*x[j]\n",
    "    return -energy"
   ]
  },
  {
   "cell_type": "markdown",
   "metadata": {},
   "source": [
    "### Functions used to update.\n"
   ]
  },
  {
   "cell_type": "code",
   "execution_count": 5,
   "metadata": {},
   "outputs": [],
   "source": [
    "def update_rule_batch(W,x):\n",
    "    Wx = np.dot(W,x)\n",
    "    for i in range(len(Wx)):\n",
    "        Wx[i] = sign(Wx[i])\n",
    "    return Wx\n",
    "\n",
    "\n",
    "def update_rule_sparse(W,x, theta):\n",
    "    Wx = np.dot(W,x)\n",
    "    for i in range(len(Wx)):\n",
    "        Wx[i] = update(Wx[i], theta)\n",
    "    return Wx\n",
    "\n",
    "\n",
    "def update_rule_seq(W,x):\n",
    "    x_copy = np.copy(x)\n",
    "    dim = x.shape[0]\n",
    "    for i in range(x.shape[0]):\n",
    "        vec_ = 0\n",
    "        for j in range(x.shape[0]):\n",
    "            vec_ += np.dot(W[i][j], x_copy[j])\n",
    "            if vec_ < 0:\n",
    "                x_copy[i] = -1\n",
    "            else:\n",
    "                x_copy[i] = 1            \n",
    "    return x_copy\n",
    "\n",
    "\n",
    "#select units randomly\n",
    "def update_rule_rand(W,x):\n",
    "    new_x = np.copy(x)\n",
    "    for nr in range(len(x)):\n",
    "        i = np.random.randint(0,len(x))\n",
    "        quantity = np.dot(W[i,:],x)\n",
    "        new_x[i] = sign(quantity)\n",
    "    return new_x\n"
   ]
  },
  {
   "cell_type": "markdown",
   "metadata": {},
   "source": [
    "#### Appliance of the update rule"
   ]
  },
  {
   "cell_type": "code",
   "execution_count": 6,
   "metadata": {},
   "outputs": [],
   "source": [
    "def update_rule(W,x,update, show = False, theta =0.5):\n",
    "    max_iters = 50\n",
    "    iterations=0\n",
    "    energy_list = []\n",
    "    condition=True\n",
    "    x_old=np.copy(x)\n",
    "    while(condition):\n",
    "        if iterations == max_iters:\n",
    "            break\n",
    "        if update==\"batch\":\n",
    "            x_new=update_rule_batch(W, x_old)\n",
    "        elif update==\"sparse\":\n",
    "            x_new=update_rule_sparse(W, x_old, theta)  \n",
    "\n",
    "        elif update==\"sequential\":\n",
    "            x_new=update_rule_seq(W, x_old)  \n",
    "        elif update==\"random\":\n",
    "            x_new=update_rule_rand(W,x_old)\n",
    "            if show == True:\n",
    "                disp_img(x_new)\n",
    "        iterations += 1\n",
    "        energy_list.append(energy_function(W,x_old))\n",
    "        condition=not np.all(x_new==x_old)\n",
    "        x_old=np.copy(x_new)\n",
    "    return x_new, iterations, energy_list"
   ]
  },
  {
   "cell_type": "markdown",
   "metadata": {},
   "source": [
    "#### • Check if the network was able to store all three patterns."
   ]
  },
  {
   "cell_type": "code",
   "execution_count": 7,
   "metadata": {},
   "outputs": [
    {
     "name": "stdout",
     "output_type": "stream",
     "text": [
      "pattern is recognized\n",
      "pattern is recognized\n",
      "pattern is recognized\n"
     ]
    }
   ],
   "source": [
    "W = weight(patterns)\n",
    "#check \n",
    "for x in patterns:\n",
    "    if (np.array_equal(x,update_rule(W,x,\"batch\")[0])):\n",
    "        print(\"pattern is recognized\")\n"
   ]
  },
  {
   "cell_type": "markdown",
   "metadata": {},
   "source": [
    "## 3.1 Convergence and attractors\n"
   ]
  },
  {
   "cell_type": "code",
   "execution_count": 8,
   "metadata": {},
   "outputs": [],
   "source": [
    "x1d=np.array([1,-1,1,-1,1,-1,-1,1])\n",
    "x2d=np.array([1,1,-1,-1,-1,1,-1,-1])\n",
    "x3d=np.array([1,1,1,-1,1,1,-1,1])\n",
    "distorted_patterns = np.array([x1d, x2d, x3d])\n",
    "\n",
    "#x1d has a one bit error, x2d and x3d have two bit errors."
   ]
  },
  {
   "cell_type": "code",
   "execution_count": 9,
   "metadata": {},
   "outputs": [],
   "source": [
    "# Function used to update the pattern used for recognition.\n",
    "# changes the memory\n",
    "def updated_patterns(W, patterns, update):\n",
    "    list_iterations = []\n",
    "    new_patterns = []\n",
    "    for mu in range(len(patterns)):\n",
    "        pattern = patterns[mu]\n",
    "        new_pattern, iterations, energy_list = update_rule(W,pattern,update)\n",
    "        new_patterns.append(new_pattern)\n",
    "        list_iterations.append(iterations) \n",
    "    return np.array(new_patterns), list_iterations"
   ]
  },
  {
   "cell_type": "code",
   "execution_count": 10,
   "metadata": {},
   "outputs": [],
   "source": [
    "update = \"batch\"\n",
    "new_patterns, list_iterations = updated_patterns(W,distorted_patterns,update)\n"
   ]
  },
  {
   "cell_type": "code",
   "execution_count": 11,
   "metadata": {},
   "outputs": [
    {
     "name": "stdout",
     "output_type": "stream",
     "text": [
      "they look the same\n",
      "not alike\n",
      "they look the same\n"
     ]
    }
   ],
   "source": [
    "for i in range(len(new_patterns)):\n",
    "    if (np.array_equal(new_patterns[i], patterns[i])):\n",
    "        print(\"they look the same\")\n",
    "    else:\n",
    "        print(\"not alike\")"
   ]
  },
  {
   "cell_type": "markdown",
   "metadata": {},
   "source": [
    "#### How many attractors are there in this network?"
   ]
  },
  {
   "cell_type": "code",
   "execution_count": 12,
   "metadata": {},
   "outputs": [],
   "source": [
    "all_patterns = [list(i) for i in itertools.product([-1,1], repeat=8)]\n",
    "\n",
    "fixed_points, list_iterations = updated_patterns(W,all_patterns,\"batch\")\n",
    "attractors = np.unique(fixed_points, axis=0)\n",
    "occurences = np.zeros(len(attractors))\n",
    "idx = 0\n",
    "for attractor in attractors:\n",
    "    for i in range(len(fixed_points)):\n",
    "        if np.array_equal(attractor,fixed_points[i]):\n",
    "            occurences[idx] += 1\n",
    "    idx += 1"
   ]
  },
  {
   "cell_type": "code",
   "execution_count": 13,
   "metadata": {},
   "outputs": [
    {
     "name": "stdout",
     "output_type": "stream",
     "text": [
      "[[-1. -1. -1. -1. -1.  1. -1. -1.]\n",
      " [-1. -1. -1. -1.  1. -1. -1. -1.]\n",
      " [-1. -1.  1. -1. -1.  1. -1.  1.]\n",
      " [-1. -1.  1. -1.  1. -1. -1.  1.]\n",
      " [-1. -1.  1. -1.  1.  1. -1.  1.]\n",
      " [-1.  1. -1. -1. -1.  1. -1. -1.]\n",
      " [-1.  1.  1. -1. -1.  1. -1.  1.]\n",
      " [-1.  1.  1. -1.  1. -1. -1.  1.]\n",
      " [ 1. -1. -1.  1.  1. -1.  1. -1.]\n",
      " [ 1.  1. -1.  1. -1.  1.  1. -1.]\n",
      " [ 1.  1. -1.  1.  1. -1.  1. -1.]\n",
      " [ 1.  1. -1.  1.  1.  1.  1. -1.]\n",
      " [ 1.  1.  1.  1. -1.  1.  1.  1.]\n",
      " [ 1.  1.  1.  1.  1. -1.  1.  1.]]\n",
      "Number of attractors 14\n"
     ]
    },
    {
     "data": {
      "image/png": "[encoded data removed]",
      "text/plain": [
       "<Figure size 432x288 with 1 Axes>"
      ]
     },
     "metadata": {
      "needs_background": "light"
     },
     "output_type": "display_data"
    }
   ],
   "source": [
    "print(attractors)\n",
    "\n",
    "plt.xticks(np.arange(len(attractors)))\n",
    "plt.bar(range(len(attractors)), occurences)\n",
    "plt.ylabel(\"Occurences\")\n",
    "plt.xlabel(\"Index\")\n",
    "plt.title(\"Occurences of attractors\")\n",
    "print(\"Number of attractors\",len(attractors))"
   ]
  },
  {
   "cell_type": "markdown",
   "metadata": {},
   "source": [
    "#### What happens when you make the starting pattern even more dissimilar to the stored ones (e.g. more than half is wrong)?"
   ]
  },
  {
   "cell_type": "code",
   "execution_count": 14,
   "metadata": {},
   "outputs": [
    {
     "name": "stdout",
     "output_type": "stream",
     "text": [
      "The new pattern: [ 1. -1. -1.  1.  1. -1.  1. -1.] after 2 iterations.\n",
      "not alike\n",
      "The new pattern: [ 1.  1. -1.  1. -1.  1.  1. -1.] after 2 iterations.\n",
      "not alike\n",
      "The new pattern: [-1. -1.  1. -1.  1. -1. -1.  1.] after 2 iterations.\n",
      "not alike\n"
     ]
    }
   ],
   "source": [
    "#all of the data have 4 errors.\n",
    "x1vd=np.array([1,-1,-1,1,-1,-1,-1,1])\n",
    "x2vd=np.array([1,1,1,1,-1,1,-1,-1])\n",
    "x3vd=np.array([1,-1,1,-1,1,-1,-1,1])\n",
    "very_distorted_patterns = np.array([x1vd, x2vd, x3vd])\n",
    "\n",
    "new_patterns, list_iterations = updated_patterns(W,very_distorted_patterns,update)\n",
    "\n",
    "for i in range(len(new_patterns)):\n",
    "    print(\"The new pattern:\", new_patterns[i],\"after\",list_iterations[i],\"iterations.\" )\n",
    "    if (np.array_equal(new_patterns[i], patterns[i])):\n",
    "        print(\"they look the same\")\n",
    "    else:\n",
    "        print(\"not alike\")\n",
    "\n",
    "# Can't recall to previous stored pattern because they are to dissimilar."
   ]
  },
  {
   "cell_type": "markdown",
   "metadata": {},
   "source": [
    "# 3.2 Sequential update"
   ]
  },
  {
   "cell_type": "markdown",
   "metadata": {},
   "source": [
    "#### load & rework image"
   ]
  },
  {
   "cell_type": "code",
   "execution_count": 15,
   "metadata": {},
   "outputs": [],
   "source": [
    "img = np.genfromtxt('pict.dat', dtype = None, delimiter = ',', encoding=None)"
   ]
  },
  {
   "cell_type": "code",
   "execution_count": 16,
   "metadata": {},
   "outputs": [],
   "source": [
    "def separate_data(data):\n",
    "    patterns = []\n",
    "    L = []\n",
    "    for i in range(len(data)):\n",
    "        if i%1024 == 0 and i !=0:\n",
    "            patterns.append(np.array(L))\n",
    "            L = []\n",
    "        L.append(data[i])\n",
    "    patterns.append(np.array(L))\n",
    "    return patterns"
   ]
  },
  {
   "cell_type": "code",
   "execution_count": 17,
   "metadata": {},
   "outputs": [],
   "source": [
    "#function to show the images\n",
    "def disp_img(pattern):\n",
    "    pattern = pattern.reshape(32,32)\n",
    "    plt.imshow(pattern, interpolation = 'nearest')\n",
    "    if np.array_equal(pattern,p10.reshape(32,32)):\n",
    "        plt.title(\"Degraded\")\n",
    "    if np.array_equal(pattern,p11.reshape(32,32)):\n",
    "        plt.title(\"Mixture\")\n",
    "    else:\n",
    "        plt.title(\"Image\")\n",
    "    plt.show()"
   ]
  },
  {
   "cell_type": "markdown",
   "metadata": {},
   "source": [
    "#### • Check that the three patterns are stable."
   ]
  },
  {
   "cell_type": "code",
   "execution_count": 18,
   "metadata": {},
   "outputs": [
    {
     "data": {
      "image/png": "[encoded data removed]",
      "text/plain": [
       "<Figure size 432x288 with 1 Axes>"
      ]
     },
     "metadata": {
      "needs_background": "light"
     },
     "output_type": "display_data"
    },
    {
     "data": {
      "image/png": "[encoded data removed]",
      "text/plain": [
       "<Figure size 432x288 with 1 Axes>"
      ]
     },
     "metadata": {
      "needs_background": "light"
     },
     "output_type": "display_data"
    },
    {
     "data": {
      "image/png": "[encoded data removed]",
      "text/plain": [
       "<Figure size 432x288 with 1 Axes>"
      ]
     },
     "metadata": {
      "needs_background": "light"
     },
     "output_type": "display_data"
    },
    {
     "data": {
      "image/png": "[encoded data removed]",
      "text/plain": [
       "<Figure size 432x288 with 1 Axes>"
      ]
     },
     "metadata": {
      "needs_background": "light"
     },
     "output_type": "display_data"
    },
    {
     "data": {
      "image/png": "[encoded data removed]",
      "text/plain": [
       "<Figure size 432x288 with 1 Axes>"
      ]
     },
     "metadata": {
      "needs_background": "light"
     },
     "output_type": "display_data"
    },
    {
     "data": {
      "image/png": "[encoded data removed]",
      "text/plain": [
       "<Figure size 432x288 with 1 Axes>"
      ]
     },
     "metadata": {
      "needs_background": "light"
     },
     "output_type": "display_data"
    },
    {
     "data": {
      "image/png": "[encoded data removed]",
      "text/plain": [
       "<Figure size 432x288 with 1 Axes>"
      ]
     },
     "metadata": {
      "needs_background": "light"
     },
     "output_type": "display_data"
    },
    {
     "data": {
      "image/png": "[encoded data removed]",
      "text/plain": [
       "<Figure size 432x288 with 1 Axes>"
      ]
     },
     "metadata": {
      "needs_background": "light"
     },
     "output_type": "display_data"
    },
    {
     "data": {
      "image/png": "[encoded data removed]",
      "text/plain": [
       "<Figure size 432x288 with 1 Axes>"
      ]
     },
     "metadata": {
      "needs_background": "light"
     },
     "output_type": "display_data"
    },
    {
     "data": {
      "image/png": "[encoded data removed]",
      "text/plain": [
       "<Figure size 432x288 with 1 Axes>"
      ]
     },
     "metadata": {
      "needs_background": "light"
     },
     "output_type": "display_data"
    },
    {
     "data": {
      "image/png": "[encoded data removed]",
      "text/plain": [
       "<Figure size 432x288 with 1 Axes>"
      ]
     },
     "metadata": {
      "needs_background": "light"
     },
     "output_type": "display_data"
    }
   ],
   "source": [
    "patterns=separate_data(img)\n",
    "p1 = patterns[0]\n",
    "p2 = patterns[1]\n",
    "p3 = patterns[2]\n",
    "p4 = patterns[3]\n",
    "p5 = patterns[4]\n",
    "p6 = patterns[5]\n",
    "p7 = patterns[6]\n",
    "p8 = patterns[7]\n",
    "p9 = patterns[8]\n",
    "p10 = patterns[9]\n",
    "p11 = patterns[10]\n",
    "\n",
    "for i in range(11):\n",
    "    disp_img(patterns[i])"
   ]
  },
  {
   "cell_type": "code",
   "execution_count": 19,
   "metadata": {},
   "outputs": [],
   "source": [
    "pic_patterns = np.array([p1, p2, p3])\n",
    "W = weight(pic_patterns,True)"
   ]
  },
  {
   "cell_type": "markdown",
   "metadata": {},
   "source": [
    "#### • Check that the three patterns are stable."
   ]
  },
  {
   "cell_type": "code",
   "execution_count": 20,
   "metadata": {},
   "outputs": [
    {
     "name": "stdout",
     "output_type": "stream",
     "text": [
      "they look the same\n",
      "they look the same\n",
      "they look the same\n"
     ]
    }
   ],
   "source": [
    "for x in pic_patterns:\n",
    "    if (np.array_equal(x,update_rule(W,x,\"batch\")[0])):\n",
    "        print(\"they look the same\")\n",
    "    else:\n",
    "        print(\"not alike\")"
   ]
  },
  {
   "cell_type": "markdown",
   "metadata": {},
   "source": [
    "#### • Can the network complete a degraded pattern? Try the pattern p10, which is a degraded version of p1, or p11 which is a mixture of p2 and p3."
   ]
  },
  {
   "cell_type": "code",
   "execution_count": 21,
   "metadata": {},
   "outputs": [
    {
     "data": {
      "image/png": "[encoded data removed]",
      "text/plain": [
       "<Figure size 432x288 with 1 Axes>"
      ]
     },
     "metadata": {
      "needs_background": "light"
     },
     "output_type": "display_data"
    }
   ],
   "source": [
    "disp_img(p11)"
   ]
  },
  {
   "cell_type": "code",
   "execution_count": 22,
   "metadata": {},
   "outputs": [
    {
     "data": {
      "image/png": "[encoded data removed]",
      "text/plain": [
       "<Figure size 432x288 with 1 Axes>"
      ]
     },
     "metadata": {
      "needs_background": "light"
     },
     "output_type": "display_data"
    },
    {
     "data": {
      "image/png": "[encoded data removed]",
      "text/plain": [
       "<Figure size 432x288 with 1 Axes>"
      ]
     },
     "metadata": {
      "needs_background": "light"
     },
     "output_type": "display_data"
    }
   ],
   "source": [
    "new_p10, iterations, energy_list = update_rule(W,p11,\"batch\")\n",
    "disp_img(new_p10)\n",
    "disp_img(p1)\n",
    "if np.array_equal(p1,new_p10):\n",
    "    print(\"They look the same\")"
   ]
  },
  {
   "cell_type": "code",
   "execution_count": 23,
   "metadata": {},
   "outputs": [
    {
     "data": {
      "image/png": "[encoded data removed]",
      "text/plain": [
       "<Figure size 432x288 with 1 Axes>"
      ]
     },
     "metadata": {
      "needs_background": "light"
     },
     "output_type": "display_data"
    },
    {
     "data": {
      "image/png": "[encoded data removed]",
      "text/plain": [
       "<Figure size 432x288 with 1 Axes>"
      ]
     },
     "metadata": {
      "needs_background": "light"
     },
     "output_type": "display_data"
    },
    {
     "data": {
      "image/png": "[encoded data removed]",
      "text/plain": [
       "<Figure size 432x288 with 1 Axes>"
      ]
     },
     "metadata": {
      "needs_background": "light"
     },
     "output_type": "display_data"
    },
    {
     "data": {
      "image/png": "[encoded data removed]",
      "text/plain": [
       "<Figure size 432x288 with 1 Axes>"
      ]
     },
     "metadata": {
      "needs_background": "light"
     },
     "output_type": "display_data"
    },
    {
     "data": {
      "image/png": "[encoded data removed]",
      "text/plain": [
       "<Figure size 432x288 with 1 Axes>"
      ]
     },
     "metadata": {
      "needs_background": "light"
     },
     "output_type": "display_data"
    },
    {
     "data": {
      "image/png": "[encoded data removed]",
      "text/plain": [
       "<Figure size 432x288 with 1 Axes>"
      ]
     },
     "metadata": {
      "needs_background": "light"
     },
     "output_type": "display_data"
    },
    {
     "data": {
      "image/png": "[encoded data removed]",
      "text/plain": [
       "<Figure size 432x288 with 1 Axes>"
      ]
     },
     "metadata": {
      "needs_background": "light"
     },
     "output_type": "display_data"
    },
    {
     "data": {
      "image/png": "[encoded data removed]",
      "text/plain": [
       "<Figure size 432x288 with 1 Axes>"
      ]
     },
     "metadata": {
      "needs_background": "light"
     },
     "output_type": "display_data"
    },
    {
     "data": {
      "image/png": "[encoded data removed]",
      "text/plain": [
       "<Figure size 432x288 with 1 Axes>"
      ]
     },
     "metadata": {
      "needs_background": "light"
     },
     "output_type": "display_data"
    },
    {
     "data": {
      "image/png": "[encoded data removed]",
      "text/plain": [
       "<Figure size 432x288 with 1 Axes>"
      ]
     },
     "metadata": {
      "needs_background": "light"
     },
     "output_type": "display_data"
    },
    {
     "data": {
      "image/png": "[encoded data removed]",
      "text/plain": [
       "<Figure size 432x288 with 1 Axes>"
      ]
     },
     "metadata": {
      "needs_background": "light"
     },
     "output_type": "display_data"
    }
   ],
   "source": [
    "new_p11, iterations, energy_list = update_rule(W,p11,\"random\",show = True)\n",
    "disp_img(new_p11)\n",
    "disp_img(p2)\n",
    "disp_img(p3)\n"
   ]
  },
  {
   "cell_type": "code",
   "execution_count": 24,
   "metadata": {},
   "outputs": [],
   "source": [
    "new_p11,iterations, energy_list=update_rule(W,p11,\"sequential\")"
   ]
  },
  {
   "cell_type": "code",
   "execution_count": 25,
   "metadata": {},
   "outputs": [
    {
     "data": {
      "image/png": "[encoded data removed]",
      "text/plain": [
       "<Figure size 432x288 with 1 Axes>"
      ]
     },
     "metadata": {
      "needs_background": "light"
     },
     "output_type": "display_data"
    },
    {
     "data": {
      "image/png": "[encoded data removed]",
      "text/plain": [
       "<Figure size 432x288 with 1 Axes>"
      ]
     },
     "metadata": {
      "needs_background": "light"
     },
     "output_type": "display_data"
    },
    {
     "data": {
      "image/png": "[encoded data removed]",
      "text/plain": [
       "<Figure size 432x288 with 1 Axes>"
      ]
     },
     "metadata": {
      "needs_background": "light"
     },
     "output_type": "display_data"
    }
   ],
   "source": [
    "disp_img(p2)\n",
    "disp_img(p3)\n",
    "disp_img(new_p11)"
   ]
  },
  {
   "cell_type": "markdown",
   "metadata": {},
   "source": [
    " # 3.3 Energy"
   ]
  },
  {
   "cell_type": "markdown",
   "metadata": {},
   "source": [
    "#### • What is the energy at the different attractors?"
   ]
  },
  {
   "cell_type": "code",
   "execution_count": 26,
   "metadata": {},
   "outputs": [
    {
     "name": "stdout",
     "output_type": "stream",
     "text": [
      "Attractor 1: -1439.390625\n",
      "Attractor 2: -1365.640625\n",
      "Attractor 3: -1462.25\n"
     ]
    }
   ],
   "source": [
    "# energy at different attractors\n",
    "pic_attractor = np.array([p1, p2, p3, p4, p5, p6, p7, p8, p9])\n",
    "\n",
    "for i in range(len(pic_patterns)):\n",
    "    energy = energy_function(W, pic_patterns[i])\n",
    "    print(\"Attractor {}: {}\".format(i+1, energy))"
   ]
  },
  {
   "cell_type": "markdown",
   "metadata": {},
   "source": [
    "#### • What is the energy at the points of the distorted patterns?"
   ]
  },
  {
   "cell_type": "code",
   "execution_count": 27,
   "metadata": {},
   "outputs": [
    {
     "name": "stdout",
     "output_type": "stream",
     "text": [
      "Distorted/mixed image 4: -720.48046875\n",
      "Distorted/mixed image 5: -525.890625\n",
      "Distorted/mixed image 6: -683.296875\n",
      "Distorted/mixed image 7: -685.73046875\n",
      "Distorted/mixed image 8: -171.546875\n",
      "Distorted/mixed image 9: -267.51171875\n",
      "Distorted/mixed image 10: -415.98046875\n",
      "Distorted/mixed image 11: -173.5\n"
     ]
    }
   ],
   "source": [
    "pic_distorted = np.array([p4, p5, p6, p7, p8, p9, p10, p11])\n",
    "\n",
    "for i in range(len(pic_distorted)):\n",
    "    energy = energy_function(W,pic_distorted[i])\n",
    "    print(\"Distorted/mixed image {}: {}\".format(i+4, energy))"
   ]
  },
  {
   "cell_type": "markdown",
   "metadata": {},
   "source": [
    "#### • Follow how the energy changes from iteration to iteration when you use the sequential update rule to approach an attractor."
   ]
  },
  {
   "cell_type": "code",
   "execution_count": 28,
   "metadata": {},
   "outputs": [
    {
     "data": {
      "text/plain": [
       "Text(0.5, 1.0, 'random')"
      ]
     },
     "execution_count": 28,
     "metadata": {},
     "output_type": "execute_result"
    },
    {
     "data": {
      "image/png": "[encoded data removed]",
      "text/plain": [
       "<Figure size 432x288 with 1 Axes>"
      ]
     },
     "metadata": {
      "needs_background": "light"
     },
     "output_type": "display_data"
    },
    {
     "data": {
      "image/png": "[encoded data removed]",
      "text/plain": [
       "<Figure size 432x288 with 1 Axes>"
      ]
     },
     "metadata": {
      "needs_background": "light"
     },
     "output_type": "display_data"
    }
   ],
   "source": [
    "x_new, iterations, energy_list = update_rule(W,p11,\"sequential\")\n",
    "plt.plot(range(iterations), energy_list)\n",
    "plt.xlabel('iteration')\n",
    "plt.ylabel('energy')\n",
    "plt.title('sequential')\n",
    "\n",
    "x_new, iterations, energy_list = update_rule(W,p11,\"random\")\n",
    "plt.figure(2)\n",
    "plt.plot(range(iterations), energy_list)\n",
    "plt.xlabel('iteration')\n",
    "plt.ylabel('energy')\n",
    "plt.title('random')\n"
   ]
  },
  {
   "cell_type": "code",
   "execution_count": 29,
   "metadata": {},
   "outputs": [
    {
     "data": {
      "text/plain": [
       "Text(0.5, 1.0, 'random')"
      ]
     },
     "execution_count": 29,
     "metadata": {},
     "output_type": "execute_result"
    },
    {
     "data": {
      "image/png": "[encoded data removed]",
      "text/plain": [
       "<Figure size 432x288 with 1 Axes>"
      ]
     },
     "metadata": {
      "needs_background": "light"
     },
     "output_type": "display_data"
    }
   ],
   "source": [
    "np.random.seed(1)\n",
    "W_random = np.random.normal(0, 0.1, [1024,1024])\n",
    "x_new, iterations, energy_list = update_rule(W_random,p11,\"random\")\n",
    "plt.plot(range(iterations), energy_list)\n",
    "plt.xlabel('iteration')\n",
    "plt.ylabel('energy')\n",
    "plt.title('random')"
   ]
  },
  {
   "cell_type": "code",
   "execution_count": 30,
   "metadata": {},
   "outputs": [
    {
     "data": {
      "text/plain": [
       "Text(0.5, 1.0, 'sequential')"
      ]
     },
     "execution_count": 30,
     "metadata": {},
     "output_type": "execute_result"
    },
    {
     "data": {
      "image/png": "[encoded data removed]",
      "text/plain": [
       "<Figure size 432x288 with 1 Axes>"
      ]
     },
     "metadata": {
      "needs_background": "light"
     },
     "output_type": "display_data"
    }
   ],
   "source": [
    "np.random.seed(1)\n",
    "W_rand_rand = .5*(W_random+W_random.T)\n",
    "x_new, iterations, energy_list = update_rule(W_rand_rand,p11,\"sequential\")\n",
    "plt.plot(range(iterations), energy_list)\n",
    "plt.xlabel('iteration')\n",
    "plt.ylabel('energy')\n",
    "plt.title('sequential')"
   ]
  },
  {
   "cell_type": "markdown",
   "metadata": {},
   "source": [
    "# 3.4 Distortion Resistance"
   ]
  },
  {
   "cell_type": "code",
   "execution_count": 31,
   "metadata": {},
   "outputs": [],
   "source": [
    "pic_patterns = np.array([p1, p2, p3])\n",
    "W = weight(pic_patterns,True)"
   ]
  },
  {
   "cell_type": "code",
   "execution_count": 32,
   "metadata": {},
   "outputs": [
    {
     "data": {
      "image/png": "[encoded data removed]",
      "text/plain": [
       "<Figure size 432x288 with 1 Axes>"
      ]
     },
     "metadata": {
      "needs_background": "light"
     },
     "output_type": "display_data"
    },
    {
     "data": {
      "image/png": "[encoded data removed]",
      "text/plain": [
       "<Figure size 432x288 with 1 Axes>"
      ]
     },
     "metadata": {
      "needs_background": "light"
     },
     "output_type": "display_data"
    },
    {
     "data": {
      "image/png": "[encoded data removed]",
      "text/plain": [
       "<Figure size 432x288 with 1 Axes>"
      ]
     },
     "metadata": {
      "needs_background": "light"
     },
     "output_type": "display_data"
    }
   ],
   "source": [
    "pattern = np.array(p3)\n",
    "\n",
    "noise = 0.5\n",
    "\n",
    "count = int(len(pattern)*noise)\n",
    "\n",
    "disp_img(pattern)\n",
    "\n",
    "for i in range(count):\n",
    "    idx = np.random.randint(0,len(pattern))\n",
    "    pattern[idx] = -1*pattern[idx]\n",
    "\n",
    "disp_img(pattern)\n",
    "new_p, iterations, energy_list = update_rule(W,pattern,\"sequential\")\n",
    "\n",
    "disp_img(new_p)\n",
    "\n",
    "    "
   ]
  },
  {
   "cell_type": "markdown",
   "metadata": {},
   "source": [
    "• How much noise can be removed?\n",
    "\n",
    "• Is there any difference between the three attractors with regard to noise tolerance?\n",
    "\n",
    "For p1 and p2 about 50% noise can be removed, 30% for p3\n",
    "\n",
    "• Does the network always converge to the right attractor? Do the extra\n",
    "iterations (beyond a single-step recall) help? Do you notice any other\n",
    "attractors?\n",
    "\n"
   ]
  },
  {
   "cell_type": "markdown",
   "metadata": {},
   "source": [
    "# 3.5 Capacity"
   ]
  },
  {
   "cell_type": "code",
   "execution_count": 33,
   "metadata": {},
   "outputs": [],
   "source": [
    "# 3.5.1\n",
    "\n",
    "pic_patterns = np.array([p1, p2, p3, p4, p5])#, p6, p7, p8, p9])\n",
    "W = weight(pic_patterns,True)\n"
   ]
  },
  {
   "cell_type": "code",
   "execution_count": 34,
   "metadata": {},
   "outputs": [
    {
     "data": {
      "image/png": "[encoded data removed]",
      "text/plain": [
       "<Figure size 432x288 with 1 Axes>"
      ]
     },
     "metadata": {
      "needs_background": "light"
     },
     "output_type": "display_data"
    },
    {
     "data": {
      "image/png": "[encoded data removed]",
      "text/plain": [
       "<Figure size 432x288 with 1 Axes>"
      ]
     },
     "metadata": {
      "needs_background": "light"
     },
     "output_type": "display_data"
    }
   ],
   "source": [
    "pattern = np.array(p1)\n",
    "\n",
    "disp_img(pattern)\n",
    "\n",
    "new_p, iterations, energy_list = update_rule(W,pattern,\"sequential\")\n",
    "\n",
    "disp_img(new_p)\n"
   ]
  },
  {
   "cell_type": "markdown",
   "metadata": {},
   "source": [
    "• How many patterns could safely be stored? Was the drop in performance gradual or abrupt?\n",
    "\n",
    "3 patterns are still good, 4 there is a steep decline and 5 it is not visible anymore \n"
   ]
  },
  {
   "cell_type": "code",
   "execution_count": 35,
   "metadata": {},
   "outputs": [],
   "source": [
    "# 3.5.2\n",
    "\n",
    "pat = np.zeros([9,1024])\n",
    "for i in range(9):\n",
    "    np.random.seed(1)\n",
    "    c = np.random.normal(0,1,1024)\n",
    "    pat[i,:] = np.sign(c)\n",
    "\n",
    "pic_patterns = np.array([p1, p2, p3,pat[0,:],pat[1,:],pat[2,:]])\n",
    "W = weight(pic_patterns,True)\n"
   ]
  },
  {
   "cell_type": "code",
   "execution_count": 36,
   "metadata": {},
   "outputs": [
    {
     "data": {
      "image/png": "[encoded data removed]",
      "text/plain": [
       "<Figure size 432x288 with 1 Axes>"
      ]
     },
     "metadata": {
      "needs_background": "light"
     },
     "output_type": "display_data"
    },
    {
     "data": {
      "image/png": "[encoded data removed]",
      "text/plain": [
       "<Figure size 432x288 with 1 Axes>"
      ]
     },
     "metadata": {
      "needs_background": "light"
     },
     "output_type": "display_data"
    }
   ],
   "source": [
    "pattern = np.array(p1)\n",
    "\n",
    "disp_img(pattern)\n",
    "\n",
    "new_p, iterations, energy_list = update_rule(W,pattern,\"sequential\")\n",
    "\n",
    "disp_img(new_p)\n"
   ]
  },
  {
   "cell_type": "markdown",
   "metadata": {},
   "source": [
    "• Try to repeat this with learning a few random patterns instead of the pictures and see if you can store more\n",
    "\n",
    "It can store more with random patterns. \n",
    "\n",
    "\n",
    "• It has been shown that the capacity of a Hopfield network is around\n",
    "0.138N. How do you explain the difference between random patterns\n",
    "and the pictures?\n",
    "\n"
   ]
  },
  {
   "cell_type": "code",
   "execution_count": 37,
   "metadata": {},
   "outputs": [
    {
     "name": "stdout",
     "output_type": "stream",
     "text": [
      "on p:1 out of 300.\n",
      "on p:2 out of 300.\n",
      "on p:3 out of 300.\n",
      "on p:4 out of 300.\n",
      "on p:5 out of 300.\n",
      "on p:6 out of 300.\n",
      "on p:7 out of 300.\n",
      "on p:8 out of 300.\n",
      "on p:9 out of 300.\n",
      "on p:10 out of 300.\n",
      "on p:11 out of 300.\n",
      "on p:12 out of 300.\n",
      "on p:13 out of 300.\n",
      "on p:14 out of 300.\n",
      "on p:15 out of 300.\n",
      "on p:16 out of 300.\n",
      "on p:17 out of 300.\n",
      "on p:18 out of 300.\n",
      "on p:19 out of 300.\n",
      "on p:20 out of 300.\n",
      "on p:21 out of 300.\n",
      "on p:22 out of 300.\n",
      "on p:23 out of 300.\n",
      "on p:24 out of 300.\n",
      "on p:25 out of 300.\n",
      "on p:26 out of 300.\n",
      "on p:27 out of 300.\n",
      "on p:28 out of 300.\n",
      "on p:29 out of 300.\n",
      "on p:30 out of 300.\n",
      "on p:31 out of 300.\n",
      "on p:32 out of 300.\n",
      "on p:33 out of 300.\n",
      "on p:34 out of 300.\n",
      "on p:35 out of 300.\n",
      "on p:36 out of 300.\n",
      "on p:37 out of 300.\n",
      "on p:38 out of 300.\n",
      "on p:39 out of 300.\n",
      "on p:40 out of 300.\n",
      "on p:41 out of 300.\n",
      "on p:42 out of 300.\n",
      "on p:43 out of 300.\n",
      "on p:44 out of 300.\n",
      "on p:45 out of 300.\n",
      "on p:46 out of 300.\n",
      "on p:47 out of 300.\n",
      "on p:48 out of 300.\n",
      "on p:49 out of 300.\n",
      "on p:50 out of 300.\n",
      "on p:51 out of 300.\n",
      "on p:52 out of 300.\n",
      "on p:53 out of 300.\n",
      "on p:54 out of 300.\n",
      "on p:55 out of 300.\n",
      "on p:56 out of 300.\n",
      "on p:57 out of 300.\n",
      "on p:58 out of 300.\n",
      "on p:59 out of 300.\n",
      "on p:60 out of 300.\n",
      "on p:61 out of 300.\n",
      "on p:62 out of 300.\n",
      "on p:63 out of 300.\n",
      "on p:64 out of 300.\n",
      "on p:65 out of 300.\n",
      "on p:66 out of 300.\n",
      "on p:67 out of 300.\n",
      "on p:68 out of 300.\n",
      "on p:69 out of 300.\n",
      "on p:70 out of 300.\n",
      "on p:71 out of 300.\n",
      "on p:72 out of 300.\n",
      "on p:73 out of 300.\n",
      "on p:74 out of 300.\n",
      "on p:75 out of 300.\n",
      "on p:76 out of 300.\n",
      "on p:77 out of 300.\n",
      "on p:78 out of 300.\n",
      "on p:79 out of 300.\n",
      "on p:80 out of 300.\n",
      "on p:81 out of 300.\n",
      "on p:82 out of 300.\n",
      "on p:83 out of 300.\n",
      "on p:84 out of 300.\n",
      "on p:85 out of 300.\n",
      "on p:86 out of 300.\n",
      "on p:87 out of 300.\n",
      "on p:88 out of 300.\n",
      "on p:89 out of 300.\n",
      "on p:90 out of 300.\n",
      "on p:91 out of 300.\n",
      "on p:92 out of 300.\n",
      "on p:93 out of 300.\n",
      "on p:94 out of 300.\n",
      "on p:95 out of 300.\n",
      "on p:96 out of 300.\n",
      "on p:97 out of 300.\n",
      "on p:98 out of 300.\n",
      "on p:99 out of 300.\n",
      "on p:100 out of 300.\n",
      "on p:101 out of 300.\n",
      "on p:102 out of 300.\n",
      "on p:103 out of 300.\n",
      "on p:104 out of 300.\n",
      "on p:105 out of 300.\n",
      "on p:106 out of 300.\n",
      "on p:107 out of 300.\n",
      "on p:108 out of 300.\n",
      "on p:109 out of 300.\n",
      "on p:110 out of 300.\n",
      "on p:111 out of 300.\n",
      "on p:112 out of 300.\n",
      "on p:113 out of 300.\n",
      "on p:114 out of 300.\n",
      "on p:115 out of 300.\n",
      "on p:116 out of 300.\n",
      "on p:117 out of 300.\n",
      "on p:118 out of 300.\n",
      "on p:119 out of 300.\n",
      "on p:120 out of 300.\n",
      "on p:121 out of 300.\n",
      "on p:122 out of 300.\n",
      "on p:123 out of 300.\n",
      "on p:124 out of 300.\n",
      "on p:125 out of 300.\n",
      "on p:126 out of 300.\n",
      "on p:127 out of 300.\n",
      "on p:128 out of 300.\n",
      "on p:129 out of 300.\n",
      "on p:130 out of 300.\n",
      "on p:131 out of 300.\n",
      "on p:132 out of 300.\n",
      "on p:133 out of 300.\n",
      "on p:134 out of 300.\n",
      "on p:135 out of 300.\n",
      "on p:136 out of 300.\n",
      "on p:137 out of 300.\n",
      "on p:138 out of 300.\n",
      "on p:139 out of 300.\n",
      "on p:140 out of 300.\n",
      "on p:141 out of 300.\n",
      "on p:142 out of 300.\n",
      "on p:143 out of 300.\n",
      "on p:144 out of 300.\n",
      "on p:145 out of 300.\n",
      "on p:146 out of 300.\n",
      "on p:147 out of 300.\n",
      "on p:148 out of 300.\n",
      "on p:149 out of 300.\n",
      "on p:150 out of 300.\n",
      "on p:151 out of 300.\n",
      "on p:152 out of 300.\n",
      "on p:153 out of 300.\n",
      "on p:154 out of 300.\n",
      "on p:155 out of 300.\n",
      "on p:156 out of 300.\n",
      "on p:157 out of 300.\n",
      "on p:158 out of 300.\n",
      "on p:159 out of 300.\n",
      "on p:160 out of 300.\n",
      "on p:161 out of 300.\n",
      "on p:162 out of 300.\n",
      "on p:163 out of 300.\n",
      "on p:164 out of 300.\n",
      "on p:165 out of 300.\n",
      "on p:166 out of 300.\n",
      "on p:167 out of 300.\n",
      "on p:168 out of 300.\n",
      "on p:169 out of 300.\n",
      "on p:170 out of 300.\n",
      "on p:171 out of 300.\n",
      "on p:172 out of 300.\n",
      "on p:173 out of 300.\n",
      "on p:174 out of 300.\n",
      "on p:175 out of 300.\n",
      "on p:176 out of 300.\n",
      "on p:177 out of 300.\n",
      "on p:178 out of 300.\n",
      "on p:179 out of 300.\n",
      "on p:180 out of 300.\n",
      "on p:181 out of 300.\n",
      "on p:182 out of 300.\n",
      "on p:183 out of 300.\n",
      "on p:184 out of 300.\n",
      "on p:185 out of 300.\n",
      "on p:186 out of 300.\n",
      "on p:187 out of 300.\n",
      "on p:188 out of 300.\n",
      "on p:189 out of 300.\n",
      "on p:190 out of 300.\n",
      "on p:191 out of 300.\n",
      "on p:192 out of 300.\n",
      "on p:193 out of 300.\n",
      "on p:194 out of 300.\n",
      "on p:195 out of 300.\n",
      "on p:196 out of 300.\n",
      "on p:197 out of 300.\n",
      "on p:198 out of 300.\n",
      "on p:199 out of 300.\n",
      "on p:200 out of 300.\n",
      "on p:201 out of 300.\n",
      "on p:202 out of 300.\n",
      "on p:203 out of 300.\n",
      "on p:204 out of 300.\n",
      "on p:205 out of 300.\n",
      "on p:206 out of 300.\n",
      "on p:207 out of 300.\n",
      "on p:208 out of 300.\n",
      "on p:209 out of 300.\n",
      "on p:210 out of 300.\n",
      "on p:211 out of 300.\n",
      "on p:212 out of 300.\n",
      "on p:213 out of 300.\n",
      "on p:214 out of 300.\n",
      "on p:215 out of 300.\n",
      "on p:216 out of 300.\n",
      "on p:217 out of 300.\n",
      "on p:218 out of 300.\n",
      "on p:219 out of 300.\n",
      "on p:220 out of 300.\n",
      "on p:221 out of 300.\n",
      "on p:222 out of 300.\n",
      "on p:223 out of 300.\n",
      "on p:224 out of 300.\n",
      "on p:225 out of 300.\n",
      "on p:226 out of 300.\n",
      "on p:227 out of 300.\n",
      "on p:228 out of 300.\n",
      "on p:229 out of 300.\n",
      "on p:230 out of 300.\n",
      "on p:231 out of 300.\n",
      "on p:232 out of 300.\n",
      "on p:233 out of 300.\n",
      "on p:234 out of 300.\n",
      "on p:235 out of 300.\n",
      "on p:236 out of 300.\n",
      "on p:237 out of 300.\n",
      "on p:238 out of 300.\n",
      "on p:239 out of 300.\n",
      "on p:240 out of 300.\n",
      "on p:241 out of 300.\n",
      "on p:242 out of 300.\n",
      "on p:243 out of 300.\n",
      "on p:244 out of 300.\n",
      "on p:245 out of 300.\n",
      "on p:246 out of 300.\n",
      "on p:247 out of 300.\n",
      "on p:248 out of 300.\n",
      "on p:249 out of 300.\n",
      "on p:250 out of 300.\n",
      "on p:251 out of 300.\n",
      "on p:252 out of 300.\n",
      "on p:253 out of 300.\n",
      "on p:254 out of 300.\n",
      "on p:255 out of 300.\n",
      "on p:256 out of 300.\n",
      "on p:257 out of 300.\n",
      "on p:258 out of 300.\n",
      "on p:259 out of 300.\n",
      "on p:260 out of 300.\n",
      "on p:261 out of 300.\n",
      "on p:262 out of 300.\n",
      "on p:263 out of 300.\n",
      "on p:264 out of 300.\n",
      "on p:265 out of 300.\n",
      "on p:266 out of 300.\n",
      "on p:267 out of 300.\n",
      "on p:268 out of 300.\n",
      "on p:269 out of 300.\n",
      "on p:270 out of 300.\n",
      "on p:271 out of 300.\n",
      "on p:272 out of 300.\n",
      "on p:273 out of 300.\n",
      "on p:274 out of 300.\n",
      "on p:275 out of 300.\n",
      "on p:276 out of 300.\n",
      "on p:277 out of 300.\n",
      "on p:278 out of 300.\n",
      "on p:279 out of 300.\n",
      "on p:280 out of 300.\n",
      "on p:281 out of 300.\n",
      "on p:282 out of 300.\n",
      "on p:283 out of 300.\n",
      "on p:284 out of 300.\n",
      "on p:285 out of 300.\n",
      "on p:286 out of 300.\n",
      "on p:287 out of 300.\n",
      "on p:288 out of 300.\n",
      "on p:289 out of 300.\n",
      "on p:290 out of 300.\n",
      "on p:291 out of 300.\n",
      "on p:292 out of 300.\n",
      "on p:293 out of 300.\n",
      "on p:294 out of 300.\n",
      "on p:295 out of 300.\n",
      "on p:296 out of 300.\n",
      "on p:297 out of 300.\n",
      "on p:298 out of 300.\n",
      "on p:299 out of 300.\n"
     ]
    }
   ],
   "source": [
    "# 3.5.4\n",
    "\n",
    "npat = 300 \n",
    "units = 100 \n",
    "\n",
    "pat = np.zeros([npat,units])\n",
    "\n",
    "for i in range(npat):\n",
    "    c = np.random.normal(0,1,units)\n",
    "    pat[i,:] = np.sign(c)\n",
    "\n",
    "save_1 = np.zeros(npat)\n",
    "\n",
    "for p in range(1,npat): \n",
    "    pic_patterns = np.array(pat[0:p])\n",
    "    W = weight(pic_patterns,True)\n",
    "    \n",
    "    success = 0\n",
    "    for j in range(p-1):\n",
    "        pattern = pat[j]\n",
    "        \n",
    "        x = update_rule_batch(W,pattern)\n",
    "        if np.array_equal(x,pattern):\n",
    "            success += 1\n",
    "\n",
    "    success /= p\n",
    "    print('on p:{} out of 300.'.format(p))\n",
    " \n",
    "    save_1[p] = success\n",
    "\n"
   ]
  },
  {
   "cell_type": "code",
   "execution_count": 38,
   "metadata": {},
   "outputs": [
    {
     "data": {
      "text/plain": [
       "Text(0.5, 1.0, 'Convergence')"
      ]
     },
     "execution_count": 38,
     "metadata": {},
     "output_type": "execute_result"
    },
    {
     "data": {
      "image/png": "[encoded data removed]",
      "text/plain": [
       "<Figure size 432x288 with 1 Axes>"
      ]
     },
     "metadata": {
      "needs_background": "light"
     },
     "output_type": "display_data"
    }
   ],
   "source": [
    "plt.plot(range(npat),save_1)\n",
    "plt.xlabel('number of patterns')\n",
    "plt.ylabel('percentage stable pattern')\n",
    "plt.title('Convergence')"
   ]
  },
  {
   "cell_type": "code",
   "execution_count": 39,
   "metadata": {},
   "outputs": [],
   "source": [
    "# add noise fucntion\n",
    "def add_noise(pattern, noise_lvl):\n",
    "    count = int(len(pattern)*noise)\n",
    "    noisy_pattern = pattern\n",
    "    for i in range(count):\n",
    "        idx = np.random.randint(0,len(pattern))\n",
    "        noisy_pattern[idx] = -1*pattern[idx]\n",
    "    return noisy_pattern"
   ]
  },
  {
   "cell_type": "code",
   "execution_count": 40,
   "metadata": {},
   "outputs": [
    {
     "name": "stdout",
     "output_type": "stream",
     "text": [
      "on p:1 out of 300.\n",
      "on p:2 out of 300.\n",
      "on p:3 out of 300.\n",
      "on p:4 out of 300.\n",
      "on p:5 out of 300.\n",
      "on p:6 out of 300.\n",
      "on p:7 out of 300.\n",
      "on p:8 out of 300.\n",
      "on p:9 out of 300.\n",
      "on p:10 out of 300.\n",
      "on p:11 out of 300.\n",
      "on p:12 out of 300.\n",
      "on p:13 out of 300.\n",
      "on p:14 out of 300.\n",
      "on p:15 out of 300.\n",
      "on p:16 out of 300.\n",
      "on p:17 out of 300.\n",
      "on p:18 out of 300.\n",
      "on p:19 out of 300.\n",
      "on p:20 out of 300.\n",
      "on p:21 out of 300.\n",
      "on p:22 out of 300.\n",
      "on p:23 out of 300.\n",
      "on p:24 out of 300.\n",
      "on p:25 out of 300.\n",
      "on p:26 out of 300.\n",
      "on p:27 out of 300.\n",
      "on p:28 out of 300.\n",
      "on p:29 out of 300.\n",
      "on p:30 out of 300.\n",
      "on p:31 out of 300.\n",
      "on p:32 out of 300.\n",
      "on p:33 out of 300.\n",
      "on p:34 out of 300.\n",
      "on p:35 out of 300.\n",
      "on p:36 out of 300.\n",
      "on p:37 out of 300.\n",
      "on p:38 out of 300.\n",
      "on p:39 out of 300.\n",
      "on p:40 out of 300.\n",
      "on p:41 out of 300.\n",
      "on p:42 out of 300.\n",
      "on p:43 out of 300.\n",
      "on p:44 out of 300.\n",
      "on p:45 out of 300.\n",
      "on p:46 out of 300.\n",
      "on p:47 out of 300.\n",
      "on p:48 out of 300.\n",
      "on p:49 out of 300.\n",
      "on p:50 out of 300.\n",
      "on p:51 out of 300.\n",
      "on p:52 out of 300.\n",
      "on p:53 out of 300.\n",
      "on p:54 out of 300.\n",
      "on p:55 out of 300.\n",
      "on p:56 out of 300.\n",
      "on p:57 out of 300.\n",
      "on p:58 out of 300.\n",
      "on p:59 out of 300.\n",
      "on p:60 out of 300.\n",
      "on p:61 out of 300.\n",
      "on p:62 out of 300.\n",
      "on p:63 out of 300.\n",
      "on p:64 out of 300.\n",
      "on p:65 out of 300.\n",
      "on p:66 out of 300.\n",
      "on p:67 out of 300.\n",
      "on p:68 out of 300.\n",
      "on p:69 out of 300.\n",
      "on p:70 out of 300.\n",
      "on p:71 out of 300.\n",
      "on p:72 out of 300.\n",
      "on p:73 out of 300.\n",
      "on p:74 out of 300.\n",
      "on p:75 out of 300.\n",
      "on p:76 out of 300.\n",
      "on p:77 out of 300.\n",
      "on p:78 out of 300.\n",
      "on p:79 out of 300.\n",
      "on p:80 out of 300.\n",
      "on p:81 out of 300.\n",
      "on p:82 out of 300.\n",
      "on p:83 out of 300.\n",
      "on p:84 out of 300.\n",
      "on p:85 out of 300.\n",
      "on p:86 out of 300.\n",
      "on p:87 out of 300.\n",
      "on p:88 out of 300.\n",
      "on p:89 out of 300.\n",
      "on p:90 out of 300.\n",
      "on p:91 out of 300.\n",
      "on p:92 out of 300.\n",
      "on p:93 out of 300.\n",
      "on p:94 out of 300.\n",
      "on p:95 out of 300.\n",
      "on p:96 out of 300.\n",
      "on p:97 out of 300.\n",
      "on p:98 out of 300.\n",
      "on p:99 out of 300.\n",
      "on p:100 out of 300.\n",
      "on p:101 out of 300.\n",
      "on p:102 out of 300.\n",
      "on p:103 out of 300.\n",
      "on p:104 out of 300.\n",
      "on p:105 out of 300.\n",
      "on p:106 out of 300.\n",
      "on p:107 out of 300.\n",
      "on p:108 out of 300.\n",
      "on p:109 out of 300.\n",
      "on p:110 out of 300.\n",
      "on p:111 out of 300.\n",
      "on p:112 out of 300.\n",
      "on p:113 out of 300.\n",
      "on p:114 out of 300.\n",
      "on p:115 out of 300.\n",
      "on p:116 out of 300.\n",
      "on p:117 out of 300.\n",
      "on p:118 out of 300.\n",
      "on p:119 out of 300.\n",
      "on p:120 out of 300.\n",
      "on p:121 out of 300.\n",
      "on p:122 out of 300.\n",
      "on p:123 out of 300.\n",
      "on p:124 out of 300.\n",
      "on p:125 out of 300.\n",
      "on p:126 out of 300.\n",
      "on p:127 out of 300.\n",
      "on p:128 out of 300.\n",
      "on p:129 out of 300.\n",
      "on p:130 out of 300.\n",
      "on p:131 out of 300.\n",
      "on p:132 out of 300.\n",
      "on p:133 out of 300.\n",
      "on p:134 out of 300.\n",
      "on p:135 out of 300.\n",
      "on p:136 out of 300.\n",
      "on p:137 out of 300.\n",
      "on p:138 out of 300.\n",
      "on p:139 out of 300.\n",
      "on p:140 out of 300.\n",
      "on p:141 out of 300.\n",
      "on p:142 out of 300.\n",
      "on p:143 out of 300.\n",
      "on p:144 out of 300.\n",
      "on p:145 out of 300.\n",
      "on p:146 out of 300.\n",
      "on p:147 out of 300.\n",
      "on p:148 out of 300.\n",
      "on p:149 out of 300.\n",
      "on p:150 out of 300.\n",
      "on p:151 out of 300.\n",
      "on p:152 out of 300.\n",
      "on p:153 out of 300.\n",
      "on p:154 out of 300.\n",
      "on p:155 out of 300.\n",
      "on p:156 out of 300.\n",
      "on p:157 out of 300.\n",
      "on p:158 out of 300.\n",
      "on p:159 out of 300.\n",
      "on p:160 out of 300.\n",
      "on p:161 out of 300.\n",
      "on p:162 out of 300.\n",
      "on p:163 out of 300.\n",
      "on p:164 out of 300.\n",
      "on p:165 out of 300.\n",
      "on p:166 out of 300.\n",
      "on p:167 out of 300.\n",
      "on p:168 out of 300.\n",
      "on p:169 out of 300.\n",
      "on p:170 out of 300.\n",
      "on p:171 out of 300.\n",
      "on p:172 out of 300.\n",
      "on p:173 out of 300.\n",
      "on p:174 out of 300.\n",
      "on p:175 out of 300.\n",
      "on p:176 out of 300.\n",
      "on p:177 out of 300.\n",
      "on p:178 out of 300.\n",
      "on p:179 out of 300.\n",
      "on p:180 out of 300.\n",
      "on p:181 out of 300.\n",
      "on p:182 out of 300.\n",
      "on p:183 out of 300.\n",
      "on p:184 out of 300.\n",
      "on p:185 out of 300.\n",
      "on p:186 out of 300.\n",
      "on p:187 out of 300.\n",
      "on p:188 out of 300.\n",
      "on p:189 out of 300.\n",
      "on p:190 out of 300.\n",
      "on p:191 out of 300.\n",
      "on p:192 out of 300.\n",
      "on p:193 out of 300.\n",
      "on p:194 out of 300.\n",
      "on p:195 out of 300.\n",
      "on p:196 out of 300.\n",
      "on p:197 out of 300.\n",
      "on p:198 out of 300.\n",
      "on p:199 out of 300.\n",
      "on p:200 out of 300.\n",
      "on p:201 out of 300.\n",
      "on p:202 out of 300.\n",
      "on p:203 out of 300.\n",
      "on p:204 out of 300.\n",
      "on p:205 out of 300.\n",
      "on p:206 out of 300.\n",
      "on p:207 out of 300.\n",
      "on p:208 out of 300.\n",
      "on p:209 out of 300.\n",
      "on p:210 out of 300.\n",
      "on p:211 out of 300.\n",
      "on p:212 out of 300.\n",
      "on p:213 out of 300.\n",
      "on p:214 out of 300.\n",
      "on p:215 out of 300.\n",
      "on p:216 out of 300.\n",
      "on p:217 out of 300.\n",
      "on p:218 out of 300.\n",
      "on p:219 out of 300.\n",
      "on p:220 out of 300.\n",
      "on p:221 out of 300.\n",
      "on p:222 out of 300.\n",
      "on p:223 out of 300.\n",
      "on p:224 out of 300.\n",
      "on p:225 out of 300.\n",
      "on p:226 out of 300.\n",
      "on p:227 out of 300.\n",
      "on p:228 out of 300.\n",
      "on p:229 out of 300.\n",
      "on p:230 out of 300.\n",
      "on p:231 out of 300.\n",
      "on p:232 out of 300.\n",
      "on p:233 out of 300.\n",
      "on p:234 out of 300.\n",
      "on p:235 out of 300.\n",
      "on p:236 out of 300.\n",
      "on p:237 out of 300.\n",
      "on p:238 out of 300.\n",
      "on p:239 out of 300.\n",
      "on p:240 out of 300.\n",
      "on p:241 out of 300.\n",
      "on p:242 out of 300.\n",
      "on p:243 out of 300.\n",
      "on p:244 out of 300.\n",
      "on p:245 out of 300.\n",
      "on p:246 out of 300.\n",
      "on p:247 out of 300.\n",
      "on p:248 out of 300.\n",
      "on p:249 out of 300.\n",
      "on p:250 out of 300.\n",
      "on p:251 out of 300.\n",
      "on p:252 out of 300.\n",
      "on p:253 out of 300.\n",
      "on p:254 out of 300.\n",
      "on p:255 out of 300.\n",
      "on p:256 out of 300.\n",
      "on p:257 out of 300.\n",
      "on p:258 out of 300.\n",
      "on p:259 out of 300.\n",
      "on p:260 out of 300.\n",
      "on p:261 out of 300.\n",
      "on p:262 out of 300.\n",
      "on p:263 out of 300.\n",
      "on p:264 out of 300.\n",
      "on p:265 out of 300.\n",
      "on p:266 out of 300.\n",
      "on p:267 out of 300.\n",
      "on p:268 out of 300.\n",
      "on p:269 out of 300.\n",
      "on p:270 out of 300.\n",
      "on p:271 out of 300.\n",
      "on p:272 out of 300.\n",
      "on p:273 out of 300.\n",
      "on p:274 out of 300.\n",
      "on p:275 out of 300.\n",
      "on p:276 out of 300.\n",
      "on p:277 out of 300.\n",
      "on p:278 out of 300.\n",
      "on p:279 out of 300.\n",
      "on p:280 out of 300.\n",
      "on p:281 out of 300.\n",
      "on p:282 out of 300.\n",
      "on p:283 out of 300.\n",
      "on p:284 out of 300.\n",
      "on p:285 out of 300.\n",
      "on p:286 out of 300.\n",
      "on p:287 out of 300.\n",
      "on p:288 out of 300.\n",
      "on p:289 out of 300.\n",
      "on p:290 out of 300.\n",
      "on p:291 out of 300.\n",
      "on p:292 out of 300.\n",
      "on p:293 out of 300.\n",
      "on p:294 out of 300.\n",
      "on p:295 out of 300.\n",
      "on p:296 out of 300.\n",
      "on p:297 out of 300.\n",
      "on p:298 out of 300.\n",
      "on p:299 out of 300.\n"
     ]
    }
   ],
   "source": [
    "# 3.5.5 \n",
    "rand_pat = [np.random.choice([-1, 1], units) for k in range(npat)]\n",
    "rand_pat = np.array(rand_pat)\n",
    "noise_pat = add_noise(rand_pat, 0.5)\n",
    "\n",
    "save_2 = np.zeros(npat)\n",
    "\n",
    "for p in range(1,npat): \n",
    "    pic_patterns = np.array(rand_pat[0:p])\n",
    "    W = weight(pic_patterns,True)\n",
    "    \n",
    "    success = 0\n",
    "    for j in range(p-1):\n",
    "        \n",
    "        pattern = rand_pat[j]\n",
    "        noise_pattern = noise_pat[j]\n",
    "        \n",
    "        x = update_rule_batch(W,noise_pattern)\n",
    "        if np.array_equal(x,pattern):\n",
    "            success += 1\n",
    "\n",
    "    success /= p\n",
    "    print('on p:{} out of 300.'.format(p))\n",
    "    save_2[p] = success\n",
    "    \n"
   ]
  },
  {
   "cell_type": "code",
   "execution_count": 41,
   "metadata": {},
   "outputs": [
    {
     "data": {
      "text/plain": [
       "[<matplotlib.lines.Line2D at 0x7fe5520d4d10>]"
      ]
     },
     "execution_count": 41,
     "metadata": {},
     "output_type": "execute_result"
    },
    {
     "data": {
      "image/png": "[encoded data removed]",
      "text/plain": [
       "<Figure size 432x288 with 1 Axes>"
      ]
     },
     "metadata": {
      "needs_background": "light"
     },
     "output_type": "display_data"
    }
   ],
   "source": [
    "plt.plot(range(npat),save_1)\n",
    "plt.plot(range(npat),save_2)"
   ]
  },
  {
   "cell_type": "code",
   "execution_count": 42,
   "metadata": {},
   "outputs": [
    {
     "data": {
      "text/plain": [
       "[<matplotlib.lines.Line2D at 0x7fe552756610>]"
      ]
     },
     "execution_count": 42,
     "metadata": {},
     "output_type": "execute_result"
    },
    {
     "data": {
      "image/png": "[encoded data removed]",
      "text/plain": [
       "<Figure size 432x288 with 1 Axes>"
      ]
     },
     "metadata": {
      "needs_background": "light"
     },
     "output_type": "display_data"
    }
   ],
   "source": [
    "plt.plot(range(npat),save_1)\n"
   ]
  },
  {
   "cell_type": "code",
   "execution_count": 43,
   "metadata": {},
   "outputs": [
    {
     "name": "stdout",
     "output_type": "stream",
     "text": [
      "on p:1 out of 300.\n",
      "on p:2 out of 300.\n",
      "on p:3 out of 300.\n",
      "on p:4 out of 300.\n",
      "on p:5 out of 300.\n",
      "on p:6 out of 300.\n",
      "on p:7 out of 300.\n",
      "on p:8 out of 300.\n",
      "on p:9 out of 300.\n",
      "on p:10 out of 300.\n",
      "on p:11 out of 300.\n",
      "on p:12 out of 300.\n",
      "on p:13 out of 300.\n",
      "on p:14 out of 300.\n",
      "on p:15 out of 300.\n",
      "on p:16 out of 300.\n",
      "on p:17 out of 300.\n",
      "on p:18 out of 300.\n",
      "on p:19 out of 300.\n",
      "on p:20 out of 300.\n",
      "on p:21 out of 300.\n",
      "on p:22 out of 300.\n",
      "on p:23 out of 300.\n",
      "on p:24 out of 300.\n",
      "on p:25 out of 300.\n",
      "on p:26 out of 300.\n",
      "on p:27 out of 300.\n",
      "on p:28 out of 300.\n",
      "on p:29 out of 300.\n",
      "on p:30 out of 300.\n",
      "on p:31 out of 300.\n",
      "on p:32 out of 300.\n",
      "on p:33 out of 300.\n",
      "on p:34 out of 300.\n",
      "on p:35 out of 300.\n",
      "on p:36 out of 300.\n",
      "on p:37 out of 300.\n",
      "on p:38 out of 300.\n",
      "on p:39 out of 300.\n",
      "on p:40 out of 300.\n",
      "on p:41 out of 300.\n",
      "on p:42 out of 300.\n",
      "on p:43 out of 300.\n",
      "on p:44 out of 300.\n",
      "on p:45 out of 300.\n",
      "on p:46 out of 300.\n",
      "on p:47 out of 300.\n",
      "on p:48 out of 300.\n",
      "on p:49 out of 300.\n",
      "on p:50 out of 300.\n",
      "on p:51 out of 300.\n",
      "on p:52 out of 300.\n",
      "on p:53 out of 300.\n",
      "on p:54 out of 300.\n",
      "on p:55 out of 300.\n",
      "on p:56 out of 300.\n",
      "on p:57 out of 300.\n",
      "on p:58 out of 300.\n",
      "on p:59 out of 300.\n",
      "on p:60 out of 300.\n",
      "on p:61 out of 300.\n",
      "on p:62 out of 300.\n",
      "on p:63 out of 300.\n",
      "on p:64 out of 300.\n",
      "on p:65 out of 300.\n",
      "on p:66 out of 300.\n",
      "on p:67 out of 300.\n",
      "on p:68 out of 300.\n",
      "on p:69 out of 300.\n",
      "on p:70 out of 300.\n",
      "on p:71 out of 300.\n",
      "on p:72 out of 300.\n",
      "on p:73 out of 300.\n",
      "on p:74 out of 300.\n",
      "on p:75 out of 300.\n",
      "on p:76 out of 300.\n",
      "on p:77 out of 300.\n",
      "on p:78 out of 300.\n",
      "on p:79 out of 300.\n",
      "on p:80 out of 300.\n",
      "on p:81 out of 300.\n",
      "on p:82 out of 300.\n",
      "on p:83 out of 300.\n",
      "on p:84 out of 300.\n",
      "on p:85 out of 300.\n",
      "on p:86 out of 300.\n",
      "on p:87 out of 300.\n",
      "on p:88 out of 300.\n",
      "on p:89 out of 300.\n",
      "on p:90 out of 300.\n",
      "on p:91 out of 300.\n",
      "on p:92 out of 300.\n",
      "on p:93 out of 300.\n",
      "on p:94 out of 300.\n",
      "on p:95 out of 300.\n",
      "on p:96 out of 300.\n",
      "on p:97 out of 300.\n",
      "on p:98 out of 300.\n",
      "on p:99 out of 300.\n",
      "on p:100 out of 300.\n",
      "on p:101 out of 300.\n",
      "on p:102 out of 300.\n",
      "on p:103 out of 300.\n",
      "on p:104 out of 300.\n",
      "on p:105 out of 300.\n",
      "on p:106 out of 300.\n",
      "on p:107 out of 300.\n",
      "on p:108 out of 300.\n",
      "on p:109 out of 300.\n",
      "on p:110 out of 300.\n",
      "on p:111 out of 300.\n",
      "on p:112 out of 300.\n",
      "on p:113 out of 300.\n",
      "on p:114 out of 300.\n",
      "on p:115 out of 300.\n",
      "on p:116 out of 300.\n",
      "on p:117 out of 300.\n",
      "on p:118 out of 300.\n",
      "on p:119 out of 300.\n",
      "on p:120 out of 300.\n",
      "on p:121 out of 300.\n",
      "on p:122 out of 300.\n",
      "on p:123 out of 300.\n",
      "on p:124 out of 300.\n",
      "on p:125 out of 300.\n",
      "on p:126 out of 300.\n",
      "on p:127 out of 300.\n",
      "on p:128 out of 300.\n",
      "on p:129 out of 300.\n",
      "on p:130 out of 300.\n",
      "on p:131 out of 300.\n",
      "on p:132 out of 300.\n",
      "on p:133 out of 300.\n",
      "on p:134 out of 300.\n",
      "on p:135 out of 300.\n",
      "on p:136 out of 300.\n",
      "on p:137 out of 300.\n",
      "on p:138 out of 300.\n",
      "on p:139 out of 300.\n",
      "on p:140 out of 300.\n",
      "on p:141 out of 300.\n",
      "on p:142 out of 300.\n",
      "on p:143 out of 300.\n",
      "on p:144 out of 300.\n",
      "on p:145 out of 300.\n",
      "on p:146 out of 300.\n",
      "on p:147 out of 300.\n",
      "on p:148 out of 300.\n",
      "on p:149 out of 300.\n",
      "on p:150 out of 300.\n",
      "on p:151 out of 300.\n",
      "on p:152 out of 300.\n",
      "on p:153 out of 300.\n",
      "on p:154 out of 300.\n",
      "on p:155 out of 300.\n",
      "on p:156 out of 300.\n",
      "on p:157 out of 300.\n",
      "on p:158 out of 300.\n",
      "on p:159 out of 300.\n",
      "on p:160 out of 300.\n",
      "on p:161 out of 300.\n",
      "on p:162 out of 300.\n",
      "on p:163 out of 300.\n",
      "on p:164 out of 300.\n",
      "on p:165 out of 300.\n",
      "on p:166 out of 300.\n",
      "on p:167 out of 300.\n",
      "on p:168 out of 300.\n",
      "on p:169 out of 300.\n",
      "on p:170 out of 300.\n",
      "on p:171 out of 300.\n",
      "on p:172 out of 300.\n",
      "on p:173 out of 300.\n",
      "on p:174 out of 300.\n",
      "on p:175 out of 300.\n",
      "on p:176 out of 300.\n",
      "on p:177 out of 300.\n",
      "on p:178 out of 300.\n",
      "on p:179 out of 300.\n",
      "on p:180 out of 300.\n",
      "on p:181 out of 300.\n",
      "on p:182 out of 300.\n",
      "on p:183 out of 300.\n",
      "on p:184 out of 300.\n",
      "on p:185 out of 300.\n",
      "on p:186 out of 300.\n",
      "on p:187 out of 300.\n",
      "on p:188 out of 300.\n",
      "on p:189 out of 300.\n",
      "on p:190 out of 300.\n",
      "on p:191 out of 300.\n",
      "on p:192 out of 300.\n",
      "on p:193 out of 300.\n",
      "on p:194 out of 300.\n",
      "on p:195 out of 300.\n",
      "on p:196 out of 300.\n",
      "on p:197 out of 300.\n",
      "on p:198 out of 300.\n",
      "on p:199 out of 300.\n",
      "on p:200 out of 300.\n",
      "on p:201 out of 300.\n",
      "on p:202 out of 300.\n",
      "on p:203 out of 300.\n",
      "on p:204 out of 300.\n",
      "on p:205 out of 300.\n",
      "on p:206 out of 300.\n",
      "on p:207 out of 300.\n",
      "on p:208 out of 300.\n",
      "on p:209 out of 300.\n",
      "on p:210 out of 300.\n",
      "on p:211 out of 300.\n",
      "on p:212 out of 300.\n",
      "on p:213 out of 300.\n",
      "on p:214 out of 300.\n",
      "on p:215 out of 300.\n",
      "on p:216 out of 300.\n",
      "on p:217 out of 300.\n",
      "on p:218 out of 300.\n",
      "on p:219 out of 300.\n",
      "on p:220 out of 300.\n",
      "on p:221 out of 300.\n",
      "on p:222 out of 300.\n",
      "on p:223 out of 300.\n",
      "on p:224 out of 300.\n",
      "on p:225 out of 300.\n",
      "on p:226 out of 300.\n",
      "on p:227 out of 300.\n",
      "on p:228 out of 300.\n",
      "on p:229 out of 300.\n",
      "on p:230 out of 300.\n",
      "on p:231 out of 300.\n",
      "on p:232 out of 300.\n",
      "on p:233 out of 300.\n",
      "on p:234 out of 300.\n",
      "on p:235 out of 300.\n",
      "on p:236 out of 300.\n",
      "on p:237 out of 300.\n",
      "on p:238 out of 300.\n",
      "on p:239 out of 300.\n",
      "on p:240 out of 300.\n",
      "on p:241 out of 300.\n",
      "on p:242 out of 300.\n",
      "on p:243 out of 300.\n",
      "on p:244 out of 300.\n",
      "on p:245 out of 300.\n",
      "on p:246 out of 300.\n",
      "on p:247 out of 300.\n",
      "on p:248 out of 300.\n",
      "on p:249 out of 300.\n",
      "on p:250 out of 300.\n",
      "on p:251 out of 300.\n",
      "on p:252 out of 300.\n",
      "on p:253 out of 300.\n",
      "on p:254 out of 300.\n",
      "on p:255 out of 300.\n",
      "on p:256 out of 300.\n",
      "on p:257 out of 300.\n",
      "on p:258 out of 300.\n",
      "on p:259 out of 300.\n",
      "on p:260 out of 300.\n",
      "on p:261 out of 300.\n",
      "on p:262 out of 300.\n",
      "on p:263 out of 300.\n",
      "on p:264 out of 300.\n",
      "on p:265 out of 300.\n",
      "on p:266 out of 300.\n",
      "on p:267 out of 300.\n",
      "on p:268 out of 300.\n",
      "on p:269 out of 300.\n",
      "on p:270 out of 300.\n",
      "on p:271 out of 300.\n",
      "on p:272 out of 300.\n",
      "on p:273 out of 300.\n",
      "on p:274 out of 300.\n",
      "on p:275 out of 300.\n",
      "on p:276 out of 300.\n",
      "on p:277 out of 300.\n",
      "on p:278 out of 300.\n",
      "on p:279 out of 300.\n",
      "on p:280 out of 300.\n",
      "on p:281 out of 300.\n",
      "on p:282 out of 300.\n",
      "on p:283 out of 300.\n",
      "on p:284 out of 300.\n",
      "on p:285 out of 300.\n",
      "on p:286 out of 300.\n",
      "on p:287 out of 300.\n",
      "on p:288 out of 300.\n",
      "on p:289 out of 300.\n",
      "on p:290 out of 300.\n",
      "on p:291 out of 300.\n",
      "on p:292 out of 300.\n",
      "on p:293 out of 300.\n",
      "on p:294 out of 300.\n",
      "on p:295 out of 300.\n",
      "on p:296 out of 300.\n",
      "on p:297 out of 300.\n",
      "on p:298 out of 300.\n",
      "on p:299 out of 300.\n"
     ]
    }
   ],
   "source": [
    "# 3.5.6 \n",
    "\n",
    "npat = 300 \n",
    "units = 100 \n",
    "\n",
    "pat = np.zeros([npat,units])\n",
    "\n",
    "for i in range(npat):\n",
    "    c = np.random.normal(0,1,units)\n",
    "    pat[i,:] = np.sign(c)\n",
    "\n",
    "rand_pat = [np.random.choice([-1, 1], units) for k in range(npat)]\n",
    "rand_pat = np.array(rand_pat)\n",
    "noise_pat = add_noise(rand_pat, 0.5)\n",
    "\n",
    "save_11 = np.zeros(npat)\n",
    "save_22 = np.zeros(npat)\n",
    "\n",
    "\n",
    "for p in range(1,npat): \n",
    "    pic_patterns = np.array(pat[0:p])\n",
    "    pic_patterns_noise = np.array(rand_pat[0:p])\n",
    "    \n",
    "    W = weight(pic_patterns,True)\n",
    "    Wnoise = weight(pic_patterns_noise,True)\n",
    "    \n",
    "    nn = W.shape[0]\n",
    "    W[range(nn), range(nn)] = 0\n",
    "    nn = Wnoise.shape[0]\n",
    "    Wnoise[range(nn), range(nn)] = 0\n",
    "    \n",
    "    success = 0\n",
    "    noise_success = 0\n",
    "    for j in range(p-1):\n",
    "        pattern = pat[j]\n",
    "        \n",
    "        rand_pattern = rand_pat[j]\n",
    "        noise_pattern = noise_pat[j]\n",
    "\n",
    "        x = update_rule_batch(W,pattern)\n",
    "        xnoise = update_rule_batch(Wnoise,noise_pattern)\n",
    "        \n",
    "        if np.array_equal(x,pattern):\n",
    "            success += 1\n",
    "\n",
    "        if np.array_equal(xnoise,rand_pattern):\n",
    "            noise_success += 1\n",
    "\n",
    "    success /= p\n",
    "    noise_success /=p\n",
    "    print('on p:{} out of 300.'.format(p))\n",
    " \n",
    "    save_11[p] = success    \n",
    "    save_22[p] = noise_success\n",
    "\n"
   ]
  },
  {
   "cell_type": "code",
   "execution_count": 44,
   "metadata": {},
   "outputs": [
    {
     "data": {
      "text/plain": [
       "[<matplotlib.lines.Line2D at 0x7fe5526ab950>]"
      ]
     },
     "execution_count": 44,
     "metadata": {},
     "output_type": "execute_result"
    },
    {
     "data": {
      "image/png": "[encoded data removed]",
      "text/plain": [
       "<Figure size 432x288 with 1 Axes>"
      ]
     },
     "metadata": {
      "needs_background": "light"
     },
     "output_type": "display_data"
    }
   ],
   "source": [
    "plt.plot(range(npat),save_11)\n",
    "plt.plot(range(npat),save_22)"
   ]
  },
  {
   "cell_type": "code",
   "execution_count": 45,
   "metadata": {},
   "outputs": [
    {
     "name": "stdout",
     "output_type": "stream",
     "text": [
      "on p:1 out of 300.\n",
      "on p:2 out of 300.\n",
      "on p:3 out of 300.\n",
      "on p:4 out of 300.\n",
      "on p:5 out of 300.\n",
      "on p:6 out of 300.\n",
      "on p:7 out of 300.\n",
      "on p:8 out of 300.\n",
      "on p:9 out of 300.\n",
      "on p:10 out of 300.\n",
      "on p:11 out of 300.\n",
      "on p:12 out of 300.\n",
      "on p:13 out of 300.\n",
      "on p:14 out of 300.\n",
      "on p:15 out of 300.\n",
      "on p:16 out of 300.\n",
      "on p:17 out of 300.\n",
      "on p:18 out of 300.\n",
      "on p:19 out of 300.\n",
      "on p:20 out of 300.\n",
      "on p:21 out of 300.\n",
      "on p:22 out of 300.\n",
      "on p:23 out of 300.\n",
      "on p:24 out of 300.\n",
      "on p:25 out of 300.\n",
      "on p:26 out of 300.\n",
      "on p:27 out of 300.\n",
      "on p:28 out of 300.\n",
      "on p:29 out of 300.\n",
      "on p:30 out of 300.\n",
      "on p:31 out of 300.\n",
      "on p:32 out of 300.\n",
      "on p:33 out of 300.\n",
      "on p:34 out of 300.\n",
      "on p:35 out of 300.\n",
      "on p:36 out of 300.\n",
      "on p:37 out of 300.\n",
      "on p:38 out of 300.\n",
      "on p:39 out of 300.\n",
      "on p:40 out of 300.\n",
      "on p:41 out of 300.\n",
      "on p:42 out of 300.\n",
      "on p:43 out of 300.\n",
      "on p:44 out of 300.\n",
      "on p:45 out of 300.\n",
      "on p:46 out of 300.\n",
      "on p:47 out of 300.\n",
      "on p:48 out of 300.\n",
      "on p:49 out of 300.\n",
      "on p:50 out of 300.\n",
      "on p:51 out of 300.\n",
      "on p:52 out of 300.\n",
      "on p:53 out of 300.\n",
      "on p:54 out of 300.\n",
      "on p:55 out of 300.\n",
      "on p:56 out of 300.\n",
      "on p:57 out of 300.\n",
      "on p:58 out of 300.\n",
      "on p:59 out of 300.\n",
      "on p:60 out of 300.\n",
      "on p:61 out of 300.\n",
      "on p:62 out of 300.\n",
      "on p:63 out of 300.\n",
      "on p:64 out of 300.\n",
      "on p:65 out of 300.\n",
      "on p:66 out of 300.\n",
      "on p:67 out of 300.\n",
      "on p:68 out of 300.\n",
      "on p:69 out of 300.\n",
      "on p:70 out of 300.\n",
      "on p:71 out of 300.\n",
      "on p:72 out of 300.\n",
      "on p:73 out of 300.\n",
      "on p:74 out of 300.\n"
     ]
    }
   ],
   "source": [
    "# 3.5.7\n",
    "\n",
    "npat = 75 \n",
    "units = 100 \n",
    "\n",
    "pat = np.zeros([npat,units])\n",
    "\n",
    "for i in range(npat):\n",
    "    c = np.random.normal(0,1,units)\n",
    "    c = c+0.5\n",
    "    pat[i,:] = np.sign(c)\n",
    "\n",
    "\n",
    "rand_pat = np.zeros([npat,units])\n",
    "\n",
    "for i in range(npat):\n",
    "    c = np.random.normal(0,1,units)\n",
    "    c = c+0.5\n",
    "    rand_pat[i,:] = np.sign(c)\n",
    "\n",
    "noise_pat = add_noise(rand_pat, 0.5)\n",
    "\n",
    "save_11 = np.zeros(npat)\n",
    "save_22 = np.zeros(npat)\n",
    "\n",
    "\n",
    "for p in range(1,npat): \n",
    "    pic_patterns = np.array(pat[0:p])\n",
    "    pic_patterns_noise = np.array(rand_pat[0:p])\n",
    "    \n",
    "    W = weight(pic_patterns,True)\n",
    "    Wnoise = weight(pic_patterns_noise,True)\n",
    "    \n",
    "    nn = W.shape[0]\n",
    "    W[range(nn), range(nn)] = 0\n",
    "    nn = Wnoise.shape[0]\n",
    "    Wnoise[range(nn), range(nn)] = 0\n",
    "    \n",
    "    success = 0\n",
    "    noise_success = 0\n",
    "    for j in range(p-1):\n",
    "        pattern = pat[j]\n",
    "        \n",
    "        rand_pattern = rand_pat[j]\n",
    "        noise_pattern = noise_pat[j]\n",
    "\n",
    "        x = update_rule_batch(W,pattern)\n",
    "        xnoise = update_rule_batch(Wnoise,noise_pattern)\n",
    "        \n",
    "        if np.array_equal(x,pattern):\n",
    "            success += 1\n",
    "\n",
    "\n",
    "        if np.array_equal(xnoise,rand_pattern):\n",
    "            noise_success += 1\n",
    "            \n",
    "    success /= p\n",
    "    noise_success /=p\n",
    "    print('on p:{} out of 300.'.format(p))\n",
    " \n",
    "    save_11[p] = success    \n",
    "    save_22[p] = noise_success"
   ]
  },
  {
   "cell_type": "code",
   "execution_count": 46,
   "metadata": {},
   "outputs": [
    {
     "data": {
      "text/plain": [
       "[<matplotlib.lines.Line2D at 0x7fe5520f8610>]"
      ]
     },
     "execution_count": 46,
     "metadata": {},
     "output_type": "execute_result"
    },
    {
     "data": {
      "image/png": "[encoded data removed]",
      "text/plain": [
       "<Figure size 432x288 with 1 Axes>"
      ]
     },
     "metadata": {
      "needs_background": "light"
     },
     "output_type": "display_data"
    }
   ],
   "source": [
    "plt.plot(range(npat),save_11)\n",
    "plt.plot(range(npat),save_22)"
   ]
  },
  {
   "cell_type": "markdown",
   "metadata": {},
   "source": [
    "\n",
    "# 3.6 Sparse Patterns\n"
   ]
  },
  {
   "cell_type": "code",
   "execution_count": 47,
   "metadata": {},
   "outputs": [],
   "source": [
    "def weight2(patterns, rho, scaling=False):\n",
    "    [P,n]=np.shape(patterns)\n",
    "    W=np.zeros((n,n))\n",
    "    for i in range (n):\n",
    "        for j in range(n):\n",
    "            w = 0\n",
    "            for mu in range(P):\n",
    "                x_mu = patterns[mu]\n",
    "                w = w + (x_mu[i]-rho)*(x_mu[j]-rho)\n",
    "                W[i,j]= w\n",
    "                \n",
    "            if scaling==True:\n",
    "                W[i,j]=W[i,j]/n\n",
    "    return W\n"
   ]
  },
  {
   "cell_type": "code",
   "execution_count": 48,
   "metadata": {},
   "outputs": [],
   "source": [
    "\n",
    "npat = 100\n",
    "units = 50 \n",
    "\n",
    "pat = np.zeros([npat,units])\n",
    "\n",
    "rho = 0.2\n",
    "\n",
    "count = int(npat*units*rho)\n",
    "\n",
    "for i in range(count):\n",
    "    idx = np.random.randint(0,npat)\n",
    "    idxx = np.random.randint(0,units)\n",
    "    pat[idx,idxx] = 1\n",
    "   "
   ]
  },
  {
   "cell_type": "code",
   "execution_count": 49,
   "metadata": {},
   "outputs": [
    {
     "ename": "TypeError",
     "evalue": "'str' object is not callable",
     "output_type": "error",
     "traceback": [
      "\u001b[0;31m---------------------------------------------------------------------------\u001b[0m",
      "\u001b[0;31mTypeError\u001b[0m                                 Traceback (most recent call last)",
      "\u001b[0;32m<ipython-input-49-565dacdc2a73>\u001b[0m in \u001b[0;36m<module>\u001b[0;34m\u001b[0m\n\u001b[1;32m      7\u001b[0m     \u001b[0msuccess\u001b[0m \u001b[0;34m=\u001b[0m \u001b[0;36m0\u001b[0m\u001b[0;34m\u001b[0m\u001b[0;34m\u001b[0m\u001b[0m\n\u001b[1;32m      8\u001b[0m     \u001b[0;32mfor\u001b[0m \u001b[0mp\u001b[0m \u001b[0;32min\u001b[0m \u001b[0mpat\u001b[0m\u001b[0;34m:\u001b[0m\u001b[0;34m\u001b[0m\u001b[0;34m\u001b[0m\u001b[0m\n\u001b[0;32m----> 9\u001b[0;31m         \u001b[0mnew_pat\u001b[0m\u001b[0;34m,\u001b[0m \u001b[0miterations\u001b[0m\u001b[0;34m,\u001b[0m \u001b[0menergy\u001b[0m \u001b[0;34m=\u001b[0m \u001b[0mupdate_rule\u001b[0m\u001b[0;34m(\u001b[0m\u001b[0mW\u001b[0m\u001b[0;34m,\u001b[0m\u001b[0mp\u001b[0m\u001b[0;34m,\u001b[0m\u001b[0;34m\"sparse\"\u001b[0m\u001b[0;34m,\u001b[0m \u001b[0;32mFalse\u001b[0m\u001b[0;34m,\u001b[0m\u001b[0mtheta\u001b[0m\u001b[0;34m)\u001b[0m\u001b[0;34m\u001b[0m\u001b[0;34m\u001b[0m\u001b[0m\n\u001b[0m\u001b[1;32m     10\u001b[0m         \u001b[0;32mif\u001b[0m \u001b[0mnp\u001b[0m\u001b[0;34m.\u001b[0m\u001b[0marray_equal\u001b[0m\u001b[0;34m(\u001b[0m\u001b[0mp\u001b[0m\u001b[0;34m,\u001b[0m\u001b[0mnew_pat\u001b[0m\u001b[0;34m)\u001b[0m\u001b[0;34m:\u001b[0m\u001b[0;34m\u001b[0m\u001b[0;34m\u001b[0m\u001b[0m\n\u001b[1;32m     11\u001b[0m             \u001b[0msuccess\u001b[0m \u001b[0;34m+=\u001b[0m \u001b[0;36m1\u001b[0m\u001b[0;34m\u001b[0m\u001b[0;34m\u001b[0m\u001b[0m\n",
      "\u001b[0;32m<ipython-input-6-5139bc0ff9da>\u001b[0m in \u001b[0;36mupdate_rule\u001b[0;34m(W, x, update, show, theta)\u001b[0m\n\u001b[1;32m     11\u001b[0m             \u001b[0mx_new\u001b[0m\u001b[0;34m=\u001b[0m\u001b[0mupdate_rule_batch\u001b[0m\u001b[0;34m(\u001b[0m\u001b[0mW\u001b[0m\u001b[0;34m,\u001b[0m \u001b[0mx_old\u001b[0m\u001b[0;34m)\u001b[0m\u001b[0;34m\u001b[0m\u001b[0;34m\u001b[0m\u001b[0m\n\u001b[1;32m     12\u001b[0m         \u001b[0;32melif\u001b[0m \u001b[0mupdate\u001b[0m\u001b[0;34m==\u001b[0m\u001b[0;34m\"sparse\"\u001b[0m\u001b[0;34m:\u001b[0m\u001b[0;34m\u001b[0m\u001b[0;34m\u001b[0m\u001b[0m\n\u001b[0;32m---> 13\u001b[0;31m             \u001b[0mx_new\u001b[0m\u001b[0;34m=\u001b[0m\u001b[0mupdate_rule_sparse\u001b[0m\u001b[0;34m(\u001b[0m\u001b[0mW\u001b[0m\u001b[0;34m,\u001b[0m \u001b[0mx_old\u001b[0m\u001b[0;34m,\u001b[0m \u001b[0mtheta\u001b[0m\u001b[0;34m)\u001b[0m\u001b[0;34m\u001b[0m\u001b[0;34m\u001b[0m\u001b[0m\n\u001b[0m\u001b[1;32m     14\u001b[0m \u001b[0;34m\u001b[0m\u001b[0m\n\u001b[1;32m     15\u001b[0m         \u001b[0;32melif\u001b[0m \u001b[0mupdate\u001b[0m\u001b[0;34m==\u001b[0m\u001b[0;34m\"sequential\"\u001b[0m\u001b[0;34m:\u001b[0m\u001b[0;34m\u001b[0m\u001b[0;34m\u001b[0m\u001b[0m\n",
      "\u001b[0;32m<ipython-input-5-6bb68207f3f8>\u001b[0m in \u001b[0;36mupdate_rule_sparse\u001b[0;34m(W, x, theta)\u001b[0m\n\u001b[1;32m      9\u001b[0m     \u001b[0mWx\u001b[0m \u001b[0;34m=\u001b[0m \u001b[0mnp\u001b[0m\u001b[0;34m.\u001b[0m\u001b[0mdot\u001b[0m\u001b[0;34m(\u001b[0m\u001b[0mW\u001b[0m\u001b[0;34m,\u001b[0m\u001b[0mx\u001b[0m\u001b[0;34m)\u001b[0m\u001b[0;34m\u001b[0m\u001b[0;34m\u001b[0m\u001b[0m\n\u001b[1;32m     10\u001b[0m     \u001b[0;32mfor\u001b[0m \u001b[0mi\u001b[0m \u001b[0;32min\u001b[0m \u001b[0mrange\u001b[0m\u001b[0;34m(\u001b[0m\u001b[0mlen\u001b[0m\u001b[0;34m(\u001b[0m\u001b[0mWx\u001b[0m\u001b[0;34m)\u001b[0m\u001b[0;34m)\u001b[0m\u001b[0;34m:\u001b[0m\u001b[0;34m\u001b[0m\u001b[0;34m\u001b[0m\u001b[0m\n\u001b[0;32m---> 11\u001b[0;31m         \u001b[0mWx\u001b[0m\u001b[0;34m[\u001b[0m\u001b[0mi\u001b[0m\u001b[0;34m]\u001b[0m \u001b[0;34m=\u001b[0m \u001b[0mupdate\u001b[0m\u001b[0;34m(\u001b[0m\u001b[0mWx\u001b[0m\u001b[0;34m[\u001b[0m\u001b[0mi\u001b[0m\u001b[0;34m]\u001b[0m\u001b[0;34m,\u001b[0m \u001b[0mtheta\u001b[0m\u001b[0;34m)\u001b[0m\u001b[0;34m\u001b[0m\u001b[0;34m\u001b[0m\u001b[0m\n\u001b[0m\u001b[1;32m     12\u001b[0m     \u001b[0;32mreturn\u001b[0m \u001b[0mWx\u001b[0m\u001b[0;34m\u001b[0m\u001b[0;34m\u001b[0m\u001b[0m\n\u001b[1;32m     13\u001b[0m \u001b[0;34m\u001b[0m\u001b[0m\n",
      "\u001b[0;31mTypeError\u001b[0m: 'str' object is not callable"
     ]
    }
   ],
   "source": [
    "nrThetas = 40\n",
    "thetas = np.linspace(0,1,nrThetas,True)\n",
    "save = np.zeros(len(thetas))\n",
    "W = weight2(pat, rho,True)\n",
    "\n",
    "for i, theta in enumerate(thetas): \n",
    "    success = 0\n",
    "    for p in pat:        \n",
    "        new_pat, iterations, energy = update_rule(W,p,\"sparse\", False,theta)\n",
    "        if np.array_equal(p,new_pat):\n",
    "            success += 1\n",
    "\n",
    "    save[i] = success/npat\n",
    "    print('on theta nr: {} out of {}'.format(i,nrThetas))\n",
    "    \n",
    "plt.plot(thetas,save)\n",
    "plt.xlabel('Theta')\n",
    "plt.ylabel('percentage stored')\n",
    "plt.title('rho = {}'.format(rho))"
   ]
  },
  {
   "cell_type": "code",
   "execution_count": null,
   "metadata": {},
   "outputs": [],
   "source": []
  },
  {
   "cell_type": "code",
   "execution_count": null,
   "metadata": {},
   "outputs": [],
   "source": []
  }
 ],
 "metadata": {
  "kernelspec": {
   "display_name": "Python 3",
   "language": "python",
   "name": "python3"
  },
  "language_info": {
   "codemirror_mode": {
    "name": "ipython",
    "version": 3
   },
   "file_extension": ".py",
   "mimetype": "text/x-python",
   "name": "python",
   "nbconvert_exporter": "python",
   "pygments_lexer": "ipython3",
   "version": "3.7.6"
  }
 },
 "nbformat": 4,
 "nbformat_minor": 4
}
